{
 "cells": [
  {
   "cell_type": "code",
   "execution_count": 1,
   "metadata": {},
   "outputs": [],
   "source": [
    "from prelim_eda_helper import *"
   ]
  },
  {
   "cell_type": "code",
   "execution_count": 2,
   "metadata": {},
   "outputs": [],
   "source": [
    "# import pandas as pd\n",
    "# import numpy as np\n",
    "# import altair as alt\n",
    "# from scipy import stats\n",
    "# from tabulate import tabulate"
   ]
  },
  {
   "cell_type": "code",
   "execution_count": 3,
   "metadata": {},
   "outputs": [],
   "source": [
    "test_data_empty = pd.DataFrame( { 'cat_empty': [], 'num_empty': []})\n",
    "\n",
    "test_data = pd.DataFrame(\n",
    "    {\n",
    "        'cat_1': [1, 1, 2, 2, 3, 3, 4, 4],\n",
    "        'cat_2': ['one', 'one', 'two', 'two', 'three', 'three', 'four', 'four'],\n",
    "        'num_1': [10, 20, 50, 100, 200, 200, 300, 300],\n",
    "        'num_2': [1, 2, 3, 4, 5, 6, 7, 8],\n",
    "        'num_na': [None, 4, None, 8, None, 12, None, 16]\n",
    "    }\n",
    ")\n",
    "test_data\n",
    "\n",
    "np.random.seed(123)\n",
    "num_var1 = []\n",
    "num_list = []\n",
    "for i in np.arange(0, 1000, 100):\n",
    "    num_list.append(np.arange(i, i+100))\n",
    "\n",
    "for j in num_list:\n",
    "    num_var1 = np.append(num_var1, np.random.choice(j, 100))\n",
    "\n",
    "test_data2 = pd.DataFrame(\n",
    "    {\n",
    "        'num_var1': num_var1,\n",
    "        'num_var2': np.arange(0, 1000)\n",
    "    }\n",
    ")\n"
   ]
  },
  {
   "cell_type": "code",
   "execution_count": 4,
   "metadata": {},
   "outputs": [
    {
     "name": "stdout",
     "output_type": "stream",
     "text": [
      "An one-way ANOVA yields an F score of 26.67 with a p-value of 0.0042.\n",
      "Test                 F          p\n",
      "-------------  -------  ---------\n",
      "One-way ANOVA  26.6667  0.0041836\n",
      "\n"
     ]
    },
    {
     "name": "stderr",
     "output_type": "stream",
     "text": [
      "/Users/austinshih/opt/miniconda3/envs/eda_helper/lib/python3.9/site-packages/altair/utils/core.py:317: FutureWarning: iteritems is deprecated and will be removed in a future version. Use .items instead.\n",
      "  for col_name, dtype in df.dtypes.iteritems():\n"
     ]
    },
    {
     "data": {
      "text/html": [
       "\n",
       "<div id=\"altair-viz-5dc5a0600cb343b8bbda75160cd30b5d\"></div>\n",
       "<script type=\"text/javascript\">\n",
       "  var VEGA_DEBUG = (typeof VEGA_DEBUG == \"undefined\") ? {} : VEGA_DEBUG;\n",
       "  (function(spec, embedOpt){\n",
       "    let outputDiv = document.currentScript.previousElementSibling;\n",
       "    if (outputDiv.id !== \"altair-viz-5dc5a0600cb343b8bbda75160cd30b5d\") {\n",
       "      outputDiv = document.getElementById(\"altair-viz-5dc5a0600cb343b8bbda75160cd30b5d\");\n",
       "    }\n",
       "    const paths = {\n",
       "      \"vega\": \"https://cdn.jsdelivr.net/npm//vega@5?noext\",\n",
       "      \"vega-lib\": \"https://cdn.jsdelivr.net/npm//vega-lib?noext\",\n",
       "      \"vega-lite\": \"https://cdn.jsdelivr.net/npm//vega-lite@4.17.0?noext\",\n",
       "      \"vega-embed\": \"https://cdn.jsdelivr.net/npm//vega-embed@6?noext\",\n",
       "    };\n",
       "\n",
       "    function maybeLoadScript(lib, version) {\n",
       "      var key = `${lib.replace(\"-\", \"\")}_version`;\n",
       "      return (VEGA_DEBUG[key] == version) ?\n",
       "        Promise.resolve(paths[lib]) :\n",
       "        new Promise(function(resolve, reject) {\n",
       "          var s = document.createElement('script');\n",
       "          document.getElementsByTagName(\"head\")[0].appendChild(s);\n",
       "          s.async = true;\n",
       "          s.onload = () => {\n",
       "            VEGA_DEBUG[key] = version;\n",
       "            return resolve(paths[lib]);\n",
       "          };\n",
       "          s.onerror = () => reject(`Error loading script: ${paths[lib]}`);\n",
       "          s.src = paths[lib];\n",
       "        });\n",
       "    }\n",
       "\n",
       "    function showError(err) {\n",
       "      outputDiv.innerHTML = `<div class=\"error\" style=\"color:red;\">${err}</div>`;\n",
       "      throw err;\n",
       "    }\n",
       "\n",
       "    function displayChart(vegaEmbed) {\n",
       "      vegaEmbed(outputDiv, spec, embedOpt)\n",
       "        .catch(err => showError(`Javascript Error: ${err.message}<br>This usually means there's a typo in your chart specification. See the javascript console for the full traceback.`));\n",
       "    }\n",
       "\n",
       "    if(typeof define === \"function\" && define.amd) {\n",
       "      requirejs.config({paths});\n",
       "      require([\"vega-embed\"], displayChart, err => showError(`Error loading script: ${err.message}`));\n",
       "    } else {\n",
       "      maybeLoadScript(\"vega\", \"5\")\n",
       "        .then(() => maybeLoadScript(\"vega-lite\", \"4.17.0\"))\n",
       "        .then(() => maybeLoadScript(\"vega-embed\", \"6\"))\n",
       "        .catch(showError)\n",
       "        .then(() => displayChart(vegaEmbed));\n",
       "    }\n",
       "  })({\"config\": {\"view\": {\"continuousWidth\": 400, \"continuousHeight\": 300}}, \"hconcat\": [{\"mark\": \"bar\", \"encoding\": {\"x\": {\"bin\": {\"maxbins\": 20}, \"field\": \"num_2\", \"title\": null, \"type\": \"quantitative\"}, \"y\": {\"aggregate\": \"count\", \"title\": null, \"type\": \"quantitative\"}}, \"height\": 300, \"title\": \"Number by Category\", \"width\": 300}, {\"mark\": {\"type\": \"boxplot\", \"size\": 50}, \"encoding\": {\"x\": {\"field\": \"num_2\", \"scale\": {\"zero\": false}, \"title\": null, \"type\": \"quantitative\"}, \"y\": {\"field\": \"cat_1\", \"title\": null, \"type\": \"nominal\"}}, \"height\": 300, \"title\": \"\", \"width\": 300}], \"data\": {\"name\": \"data-ccb8a6834d34ebc3e899f252dd2de5b9\"}, \"$schema\": \"https://vega.github.io/schema/vega-lite/v4.17.0.json\", \"datasets\": {\"data-ccb8a6834d34ebc3e899f252dd2de5b9\": [{\"cat_1\": 1, \"cat_2\": \"one\", \"num_1\": 10, \"num_2\": 1, \"num_na\": null}, {\"cat_1\": 1, \"cat_2\": \"one\", \"num_1\": 20, \"num_2\": 2, \"num_na\": 4.0}, {\"cat_1\": 2, \"cat_2\": \"two\", \"num_1\": 50, \"num_2\": 3, \"num_na\": null}, {\"cat_1\": 2, \"cat_2\": \"two\", \"num_1\": 100, \"num_2\": 4, \"num_na\": 8.0}, {\"cat_1\": 3, \"cat_2\": \"three\", \"num_1\": 200, \"num_2\": 5, \"num_na\": null}, {\"cat_1\": 3, \"cat_2\": \"three\", \"num_1\": 200, \"num_2\": 6, \"num_na\": 12.0}, {\"cat_1\": 4, \"cat_2\": \"four\", \"num_1\": 300, \"num_2\": 7, \"num_na\": null}, {\"cat_1\": 4, \"cat_2\": \"four\", \"num_1\": 300, \"num_2\": 8, \"num_na\": 16.0}]}}, {\"mode\": \"vega-lite\"});\n",
       "</script>"
      ],
      "text/plain": [
       "alt.HConcatChart(...)"
      ]
     },
     "execution_count": 4,
     "metadata": {},
     "output_type": "execute_result"
    }
   ],
   "source": [
    "num_dist_by_cat(num='num_2', cat='cat_1', title_hist='Number by Category', data=test_data)"
   ]
  },
  {
   "cell_type": "code",
   "execution_count": null,
   "metadata": {},
   "outputs": [],
   "source": []
  }
 ],
 "metadata": {
  "kernelspec": {
   "display_name": "eda_helper",
   "language": "python",
   "name": "python3"
  },
  "language_info": {
   "codemirror_mode": {
    "name": "ipython",
    "version": 3
   },
   "file_extension": ".py",
   "mimetype": "text/x-python",
   "name": "python",
   "nbconvert_exporter": "python",
   "pygments_lexer": "ipython3",
   "version": "3.9.15"
  },
  "orig_nbformat": 4,
  "vscode": {
   "interpreter": {
    "hash": "842fbe6879adb1a5a537efc7fa67e951e577c976df4dee5632c1b124477a9843"
   }
  }
 },
 "nbformat": 4,
 "nbformat_minor": 2
}
