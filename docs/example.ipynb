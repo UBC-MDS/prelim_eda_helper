{
    "cells": [
        {
            "attachments": {},
            "cell_type": "markdown",
            "metadata": {},
            "source": [
                "# Example usage\n",
                "\n",
                "Here's how to use `prelim_eda_helper` in a project:"
            ]
        },
        {
            "attachments": {},
            "cell_type": "markdown",
            "metadata": {},
            "source": [
                "## Imports"
            ]
        },
        {
            "cell_type": "code",
            "execution_count": 7,
            "metadata": {},
            "outputs": [],
            "source": [
                "from prelim_eda_helper.prelim_eda_helper import *"
            ]
        },
        {
            "attachments": {},
            "cell_type": "markdown",
            "metadata": {},
            "source": [
                "## Define Test Data Set"
            ]
        },
        {
            "cell_type": "code",
            "execution_count": 8,
            "metadata": {},
            "outputs": [
                {
                    "data": {
                        "text/html": [
                            "<div>\n",
                            "<style scoped>\n",
                            "    .dataframe tbody tr th:only-of-type {\n",
                            "        vertical-align: middle;\n",
                            "    }\n",
                            "\n",
                            "    .dataframe tbody tr th {\n",
                            "        vertical-align: top;\n",
                            "    }\n",
                            "\n",
                            "    .dataframe thead th {\n",
                            "        text-align: right;\n",
                            "    }\n",
                            "</style>\n",
                            "<table border=\"1\" class=\"dataframe\">\n",
                            "  <thead>\n",
                            "    <tr style=\"text-align: right;\">\n",
                            "      <th></th>\n",
                            "      <th>cat_1</th>\n",
                            "      <th>cat_2</th>\n",
                            "      <th>num_1</th>\n",
                            "      <th>num_2</th>\n",
                            "      <th>num_na</th>\n",
                            "    </tr>\n",
                            "  </thead>\n",
                            "  <tbody>\n",
                            "    <tr>\n",
                            "      <th>0</th>\n",
                            "      <td>1</td>\n",
                            "      <td>one</td>\n",
                            "      <td>10</td>\n",
                            "      <td>1</td>\n",
                            "      <td>NaN</td>\n",
                            "    </tr>\n",
                            "    <tr>\n",
                            "      <th>1</th>\n",
                            "      <td>1</td>\n",
                            "      <td>one</td>\n",
                            "      <td>20</td>\n",
                            "      <td>2</td>\n",
                            "      <td>4.0</td>\n",
                            "    </tr>\n",
                            "    <tr>\n",
                            "      <th>2</th>\n",
                            "      <td>2</td>\n",
                            "      <td>two</td>\n",
                            "      <td>50</td>\n",
                            "      <td>3</td>\n",
                            "      <td>NaN</td>\n",
                            "    </tr>\n",
                            "    <tr>\n",
                            "      <th>3</th>\n",
                            "      <td>2</td>\n",
                            "      <td>two</td>\n",
                            "      <td>100</td>\n",
                            "      <td>4</td>\n",
                            "      <td>8.0</td>\n",
                            "    </tr>\n",
                            "    <tr>\n",
                            "      <th>4</th>\n",
                            "      <td>3</td>\n",
                            "      <td>three</td>\n",
                            "      <td>200</td>\n",
                            "      <td>5</td>\n",
                            "      <td>NaN</td>\n",
                            "    </tr>\n",
                            "    <tr>\n",
                            "      <th>5</th>\n",
                            "      <td>3</td>\n",
                            "      <td>three</td>\n",
                            "      <td>200</td>\n",
                            "      <td>6</td>\n",
                            "      <td>12.0</td>\n",
                            "    </tr>\n",
                            "    <tr>\n",
                            "      <th>6</th>\n",
                            "      <td>4</td>\n",
                            "      <td>four</td>\n",
                            "      <td>300</td>\n",
                            "      <td>7</td>\n",
                            "      <td>NaN</td>\n",
                            "    </tr>\n",
                            "    <tr>\n",
                            "      <th>7</th>\n",
                            "      <td>4</td>\n",
                            "      <td>four</td>\n",
                            "      <td>300</td>\n",
                            "      <td>8</td>\n",
                            "      <td>16.0</td>\n",
                            "    </tr>\n",
                            "  </tbody>\n",
                            "</table>\n",
                            "</div>"
                        ],
                        "text/plain": [
                            "   cat_1  cat_2  num_1  num_2  num_na\n",
                            "0      1    one     10      1     NaN\n",
                            "1      1    one     20      2     4.0\n",
                            "2      2    two     50      3     NaN\n",
                            "3      2    two    100      4     8.0\n",
                            "4      3  three    200      5     NaN\n",
                            "5      3  three    200      6    12.0\n",
                            "6      4   four    300      7     NaN\n",
                            "7      4   four    300      8    16.0"
                        ]
                    },
                    "execution_count": 8,
                    "metadata": {},
                    "output_type": "execute_result"
                }
            ],
            "source": [
                "import pandas as pd\n",
                "test_data = pd.DataFrame(\n",
                "    {\n",
                "        'cat_1': [1, 1, 2, 2, 3, 3, 4, 4],\n",
                "        'cat_2': ['one', 'one', 'two', 'two', 'three', 'three', 'four', 'four'],\n",
                "        'num_1': [10, 20, 50, 100, 200, 200, 300, 300],\n",
                "        'num_2': [1, 2, 3, 4, 5, 6, 7, 8],\n",
                "        'num_na': [None, 4, None, 8, None, 12, None, 16]\n",
                "    }\n",
                ")\n",
                "test_data"
            ]
        },
        {
            "attachments": {},
            "cell_type": "markdown",
            "metadata": {},
            "source": [
                "## Num_dist_by_cat\n",
                "This function creates a pair of charts showing the distribution of the numeric variable and when grouped by the categorical variable."
            ]
        },
        {
            "cell_type": "code",
            "execution_count": 9,
            "metadata": {},
            "outputs": [
                {
                    "name": "stdout",
                    "output_type": "stream",
                    "text": [
                        "An one-way ANOVA yields an F score of 26.67 with a p-value of 0.0042.\n",
                        "Test                 F          p\n",
                        "-------------  -------  ---------\n",
                        "One-way ANOVA  26.6667  0.0041836\n",
                        "\n"
                    ]
                },
                {
                    "name": "stderr",
                    "output_type": "stream",
                    "text": [
                        "/Users/austinshih/opt/miniconda3/envs/eda_helper/lib/python3.9/site-packages/altair/utils/core.py:317: FutureWarning: iteritems is deprecated and will be removed in a future version. Use .items instead.\n",
                        "  for col_name, dtype in df.dtypes.iteritems():\n"
                    ]
                },
                {
                    "data": {
                        "text/html": [
                            "\n",
                            "<div id=\"altair-viz-13ab0f2e88b0479d993f204147e7bea3\"></div>\n",
                            "<script type=\"text/javascript\">\n",
                            "  var VEGA_DEBUG = (typeof VEGA_DEBUG == \"undefined\") ? {} : VEGA_DEBUG;\n",
                            "  (function(spec, embedOpt){\n",
                            "    let outputDiv = document.currentScript.previousElementSibling;\n",
                            "    if (outputDiv.id !== \"altair-viz-13ab0f2e88b0479d993f204147e7bea3\") {\n",
                            "      outputDiv = document.getElementById(\"altair-viz-13ab0f2e88b0479d993f204147e7bea3\");\n",
                            "    }\n",
                            "    const paths = {\n",
                            "      \"vega\": \"https://cdn.jsdelivr.net/npm//vega@5?noext\",\n",
                            "      \"vega-lib\": \"https://cdn.jsdelivr.net/npm//vega-lib?noext\",\n",
                            "      \"vega-lite\": \"https://cdn.jsdelivr.net/npm//vega-lite@4.17.0?noext\",\n",
                            "      \"vega-embed\": \"https://cdn.jsdelivr.net/npm//vega-embed@6?noext\",\n",
                            "    };\n",
                            "\n",
                            "    function maybeLoadScript(lib, version) {\n",
                            "      var key = `${lib.replace(\"-\", \"\")}_version`;\n",
                            "      return (VEGA_DEBUG[key] == version) ?\n",
                            "        Promise.resolve(paths[lib]) :\n",
                            "        new Promise(function(resolve, reject) {\n",
                            "          var s = document.createElement('script');\n",
                            "          document.getElementsByTagName(\"head\")[0].appendChild(s);\n",
                            "          s.async = true;\n",
                            "          s.onload = () => {\n",
                            "            VEGA_DEBUG[key] = version;\n",
                            "            return resolve(paths[lib]);\n",
                            "          };\n",
                            "          s.onerror = () => reject(`Error loading script: ${paths[lib]}`);\n",
                            "          s.src = paths[lib];\n",
                            "        });\n",
                            "    }\n",
                            "\n",
                            "    function showError(err) {\n",
                            "      outputDiv.innerHTML = `<div class=\"error\" style=\"color:red;\">${err}</div>`;\n",
                            "      throw err;\n",
                            "    }\n",
                            "\n",
                            "    function displayChart(vegaEmbed) {\n",
                            "      vegaEmbed(outputDiv, spec, embedOpt)\n",
                            "        .catch(err => showError(`Javascript Error: ${err.message}<br>This usually means there's a typo in your chart specification. See the javascript console for the full traceback.`));\n",
                            "    }\n",
                            "\n",
                            "    if(typeof define === \"function\" && define.amd) {\n",
                            "      requirejs.config({paths});\n",
                            "      require([\"vega-embed\"], displayChart, err => showError(`Error loading script: ${err.message}`));\n",
                            "    } else {\n",
                            "      maybeLoadScript(\"vega\", \"5\")\n",
                            "        .then(() => maybeLoadScript(\"vega-lite\", \"4.17.0\"))\n",
                            "        .then(() => maybeLoadScript(\"vega-embed\", \"6\"))\n",
                            "        .catch(showError)\n",
                            "        .then(() => displayChart(vegaEmbed));\n",
                            "    }\n",
                            "  })({\"config\": {\"view\": {\"continuousWidth\": 400, \"continuousHeight\": 300}}, \"hconcat\": [{\"mark\": \"bar\", \"encoding\": {\"x\": {\"bin\": {\"maxbins\": 20}, \"field\": \"num_2\", \"title\": null, \"type\": \"quantitative\"}, \"y\": {\"aggregate\": \"count\", \"title\": null, \"type\": \"quantitative\"}}, \"height\": 300, \"title\": \"Number by Category\", \"width\": 300}, {\"mark\": {\"type\": \"boxplot\", \"size\": 50}, \"encoding\": {\"x\": {\"field\": \"num_2\", \"scale\": {\"zero\": false}, \"title\": null, \"type\": \"quantitative\"}, \"y\": {\"field\": \"cat_1\", \"title\": null, \"type\": \"nominal\"}}, \"height\": 300, \"title\": \"\", \"width\": 300}], \"data\": {\"name\": \"data-ccb8a6834d34ebc3e899f252dd2de5b9\"}, \"$schema\": \"https://vega.github.io/schema/vega-lite/v4.17.0.json\", \"datasets\": {\"data-ccb8a6834d34ebc3e899f252dd2de5b9\": [{\"cat_1\": 1, \"cat_2\": \"one\", \"num_1\": 10, \"num_2\": 1, \"num_na\": null}, {\"cat_1\": 1, \"cat_2\": \"one\", \"num_1\": 20, \"num_2\": 2, \"num_na\": 4.0}, {\"cat_1\": 2, \"cat_2\": \"two\", \"num_1\": 50, \"num_2\": 3, \"num_na\": null}, {\"cat_1\": 2, \"cat_2\": \"two\", \"num_1\": 100, \"num_2\": 4, \"num_na\": 8.0}, {\"cat_1\": 3, \"cat_2\": \"three\", \"num_1\": 200, \"num_2\": 5, \"num_na\": null}, {\"cat_1\": 3, \"cat_2\": \"three\", \"num_1\": 200, \"num_2\": 6, \"num_na\": 12.0}, {\"cat_1\": 4, \"cat_2\": \"four\", \"num_1\": 300, \"num_2\": 7, \"num_na\": null}, {\"cat_1\": 4, \"cat_2\": \"four\", \"num_1\": 300, \"num_2\": 8, \"num_na\": 16.0}]}}, {\"mode\": \"vega-lite\"});\n",
                            "</script>"
                        ],
                        "text/plain": [
                            "alt.HConcatChart(...)"
                        ]
                    },
                    "execution_count": 9,
                    "metadata": {},
                    "output_type": "execute_result"
                }
            ],
            "source": [
                "num_dist_by_cat(num='num_2', cat='cat_1', title_hist='Number by Category', data=test_data)"
            ]
        },
        {
            "attachments": {},
            "cell_type": "markdown",
            "metadata": {},
            "source": [
                "## Num_dist_scatter\n",
                "This function creates a scatter plot given two numerical features. Plot can provide regression trendline as linear, polynomial, or loess."
            ]
        },
        {
            "cell_type": "code",
            "execution_count": 10,
            "metadata": {},
            "outputs": [
                {
                    "name": "stdout",
                    "output_type": "stream",
                    "text": [
                        "        Num NaN   Mean  median    Stdev\n",
                        "num_1       0.0  147.5   150.0  118.894\n",
                        "num_na      4.0   10.0     NaN    5.164\n",
                        "**num2 NaN replaced with mean 10.00**\n",
                        "              Correlation       p\n",
                        "----------  -------------  ------\n",
                        "Pearson's            0.67  0.0701\n",
                        "Spearman's           0.59  0.1232\n"
                    ]
                },
                {
                    "name": "stderr",
                    "output_type": "stream",
                    "text": [
                        "/Users/austinshih/opt/miniconda3/envs/eda_helper/lib/python3.9/site-packages/altair/utils/core.py:317: FutureWarning: iteritems is deprecated and will be removed in a future version. Use .items instead.\n",
                        "  for col_name, dtype in df.dtypes.iteritems():\n"
                    ]
                },
                {
                    "data": {
                        "text/html": [
                            "\n",
                            "<div id=\"altair-viz-bda20e1e80894a7fa8a1c434447f03dc\"></div>\n",
                            "<script type=\"text/javascript\">\n",
                            "  var VEGA_DEBUG = (typeof VEGA_DEBUG == \"undefined\") ? {} : VEGA_DEBUG;\n",
                            "  (function(spec, embedOpt){\n",
                            "    let outputDiv = document.currentScript.previousElementSibling;\n",
                            "    if (outputDiv.id !== \"altair-viz-bda20e1e80894a7fa8a1c434447f03dc\") {\n",
                            "      outputDiv = document.getElementById(\"altair-viz-bda20e1e80894a7fa8a1c434447f03dc\");\n",
                            "    }\n",
                            "    const paths = {\n",
                            "      \"vega\": \"https://cdn.jsdelivr.net/npm//vega@5?noext\",\n",
                            "      \"vega-lib\": \"https://cdn.jsdelivr.net/npm//vega-lib?noext\",\n",
                            "      \"vega-lite\": \"https://cdn.jsdelivr.net/npm//vega-lite@4.17.0?noext\",\n",
                            "      \"vega-embed\": \"https://cdn.jsdelivr.net/npm//vega-embed@6?noext\",\n",
                            "    };\n",
                            "\n",
                            "    function maybeLoadScript(lib, version) {\n",
                            "      var key = `${lib.replace(\"-\", \"\")}_version`;\n",
                            "      return (VEGA_DEBUG[key] == version) ?\n",
                            "        Promise.resolve(paths[lib]) :\n",
                            "        new Promise(function(resolve, reject) {\n",
                            "          var s = document.createElement('script');\n",
                            "          document.getElementsByTagName(\"head\")[0].appendChild(s);\n",
                            "          s.async = true;\n",
                            "          s.onload = () => {\n",
                            "            VEGA_DEBUG[key] = version;\n",
                            "            return resolve(paths[lib]);\n",
                            "          };\n",
                            "          s.onerror = () => reject(`Error loading script: ${paths[lib]}`);\n",
                            "          s.src = paths[lib];\n",
                            "        });\n",
                            "    }\n",
                            "\n",
                            "    function showError(err) {\n",
                            "      outputDiv.innerHTML = `<div class=\"error\" style=\"color:red;\">${err}</div>`;\n",
                            "      throw err;\n",
                            "    }\n",
                            "\n",
                            "    function displayChart(vegaEmbed) {\n",
                            "      vegaEmbed(outputDiv, spec, embedOpt)\n",
                            "        .catch(err => showError(`Javascript Error: ${err.message}<br>This usually means there's a typo in your chart specification. See the javascript console for the full traceback.`));\n",
                            "    }\n",
                            "\n",
                            "    if(typeof define === \"function\" && define.amd) {\n",
                            "      requirejs.config({paths});\n",
                            "      require([\"vega-embed\"], displayChart, err => showError(`Error loading script: ${err.message}`));\n",
                            "    } else {\n",
                            "      maybeLoadScript(\"vega\", \"5\")\n",
                            "        .then(() => maybeLoadScript(\"vega-lite\", \"4.17.0\"))\n",
                            "        .then(() => maybeLoadScript(\"vega-embed\", \"6\"))\n",
                            "        .catch(showError)\n",
                            "        .then(() => displayChart(vegaEmbed));\n",
                            "    }\n",
                            "  })({\"config\": {\"view\": {\"continuousWidth\": 400, \"continuousHeight\": 300}}, \"layer\": [{\"mark\": {\"type\": \"point\", \"opacity\": 0.8}, \"encoding\": {\"x\": {\"field\": \"num_1\", \"title\": \"num_1\", \"type\": \"quantitative\"}, \"y\": {\"field\": \"num_na\", \"title\": \"num_na\", \"type\": \"quantitative\"}}, \"height\": 300, \"title\": \"Numeric vs Numeric\", \"width\": 300}, {\"mark\": {\"type\": \"line\", \"size\": 3}, \"encoding\": {\"x\": {\"field\": \"num_1\", \"title\": \"num_1\", \"type\": \"quantitative\"}, \"y\": {\"field\": \"num_na\", \"title\": \"num_na\", \"type\": \"quantitative\"}}, \"height\": 300, \"title\": \"Numeric vs Numeric\", \"transform\": [{\"on\": \"num_1\", \"regression\": \"num_na\", \"method\": \"poly\"}], \"width\": 300}], \"data\": {\"name\": \"data-b04fac7fb9b5ad4eecf1bc86ceb3f455\"}, \"$schema\": \"https://vega.github.io/schema/vega-lite/v4.17.0.json\", \"datasets\": {\"data-b04fac7fb9b5ad4eecf1bc86ceb3f455\": [{\"cat_1\": 1, \"cat_2\": \"one\", \"num_1\": 10, \"num_2\": 1, \"num_na\": 10.0}, {\"cat_1\": 1, \"cat_2\": \"one\", \"num_1\": 20, \"num_2\": 2, \"num_na\": 4.0}, {\"cat_1\": 2, \"cat_2\": \"two\", \"num_1\": 50, \"num_2\": 3, \"num_na\": 10.0}, {\"cat_1\": 2, \"cat_2\": \"two\", \"num_1\": 100, \"num_2\": 4, \"num_na\": 8.0}, {\"cat_1\": 3, \"cat_2\": \"three\", \"num_1\": 200, \"num_2\": 5, \"num_na\": 10.0}, {\"cat_1\": 3, \"cat_2\": \"three\", \"num_1\": 200, \"num_2\": 6, \"num_na\": 12.0}, {\"cat_1\": 4, \"cat_2\": \"four\", \"num_1\": 300, \"num_2\": 7, \"num_na\": 10.0}, {\"cat_1\": 4, \"cat_2\": \"four\", \"num_1\": 300, \"num_2\": 8, \"num_na\": 16.0}]}}, {\"mode\": \"vega-lite\"});\n",
                            "</script>"
                        ],
                        "text/plain": [
                            "alt.LayerChart(...)"
                        ]
                    },
                    "execution_count": 10,
                    "metadata": {},
                    "output_type": "execute_result"
                }
            ],
            "source": [
                "num_dist_scatter('num_1', 'num_na', test_data, title='Numeric vs Numeric', stat=True, trend = 'poly')"
            ]
        },
        {
            "attachments": {},
            "cell_type": "markdown",
            "metadata": {},
            "source": [
                "## Cat_dist_heatmap\n",
                "This function creates concatenated charts showing the heatmap of two categorical variables and the bar charts for occurrence of these variables."
            ]
        },
        {
            "cell_type": "code",
            "execution_count": 11,
            "metadata": {},
            "outputs": [
                {
                    "data": {
                        "text/html": [
                            "\n",
                            "<div id=\"altair-viz-8ebcbd549bb04f5a9760840cb7f3cccf\"></div>\n",
                            "<script type=\"text/javascript\">\n",
                            "  var VEGA_DEBUG = (typeof VEGA_DEBUG == \"undefined\") ? {} : VEGA_DEBUG;\n",
                            "  (function(spec, embedOpt){\n",
                            "    let outputDiv = document.currentScript.previousElementSibling;\n",
                            "    if (outputDiv.id !== \"altair-viz-8ebcbd549bb04f5a9760840cb7f3cccf\") {\n",
                            "      outputDiv = document.getElementById(\"altair-viz-8ebcbd549bb04f5a9760840cb7f3cccf\");\n",
                            "    }\n",
                            "    const paths = {\n",
                            "      \"vega\": \"https://cdn.jsdelivr.net/npm//vega@5?noext\",\n",
                            "      \"vega-lib\": \"https://cdn.jsdelivr.net/npm//vega-lib?noext\",\n",
                            "      \"vega-lite\": \"https://cdn.jsdelivr.net/npm//vega-lite@4.17.0?noext\",\n",
                            "      \"vega-embed\": \"https://cdn.jsdelivr.net/npm//vega-embed@6?noext\",\n",
                            "    };\n",
                            "\n",
                            "    function maybeLoadScript(lib, version) {\n",
                            "      var key = `${lib.replace(\"-\", \"\")}_version`;\n",
                            "      return (VEGA_DEBUG[key] == version) ?\n",
                            "        Promise.resolve(paths[lib]) :\n",
                            "        new Promise(function(resolve, reject) {\n",
                            "          var s = document.createElement('script');\n",
                            "          document.getElementsByTagName(\"head\")[0].appendChild(s);\n",
                            "          s.async = true;\n",
                            "          s.onload = () => {\n",
                            "            VEGA_DEBUG[key] = version;\n",
                            "            return resolve(paths[lib]);\n",
                            "          };\n",
                            "          s.onerror = () => reject(`Error loading script: ${paths[lib]}`);\n",
                            "          s.src = paths[lib];\n",
                            "        });\n",
                            "    }\n",
                            "\n",
                            "    function showError(err) {\n",
                            "      outputDiv.innerHTML = `<div class=\"error\" style=\"color:red;\">${err}</div>`;\n",
                            "      throw err;\n",
                            "    }\n",
                            "\n",
                            "    function displayChart(vegaEmbed) {\n",
                            "      vegaEmbed(outputDiv, spec, embedOpt)\n",
                            "        .catch(err => showError(`Javascript Error: ${err.message}<br>This usually means there's a typo in your chart specification. See the javascript console for the full traceback.`));\n",
                            "    }\n",
                            "\n",
                            "    if(typeof define === \"function\" && define.amd) {\n",
                            "      requirejs.config({paths});\n",
                            "      require([\"vega-embed\"], displayChart, err => showError(`Error loading script: ${err.message}`));\n",
                            "    } else {\n",
                            "      maybeLoadScript(\"vega\", \"5\")\n",
                            "        .then(() => maybeLoadScript(\"vega-lite\", \"4.17.0\"))\n",
                            "        .then(() => maybeLoadScript(\"vega-embed\", \"6\"))\n",
                            "        .catch(showError)\n",
                            "        .then(() => displayChart(vegaEmbed));\n",
                            "    }\n",
                            "  })({\"config\": {\"view\": {\"continuousWidth\": 400, \"continuousHeight\": 300}}, \"hconcat\": [{\"mark\": \"rect\", \"encoding\": {\"color\": {\"aggregate\": \"count\", \"type\": \"quantitative\"}, \"x\": {\"axis\": {\"title\": \"cat_1\"}, \"field\": \"cat_1\", \"type\": \"quantitative\"}, \"y\": {\"axis\": {\"title\": \"cat_2\"}, \"field\": \"cat_2\", \"type\": \"nominal\"}}, \"height\": 300, \"width\": 300}, {\"facet\": {\"row\": {\"field\": \"cat_2\", \"title\": \"cat_2\", \"type\": \"nominal\"}}, \"spec\": {\"mark\": \"bar\", \"encoding\": {\"color\": {\"field\": \"cat_1\", \"legend\": {\"title\": \"cat_1\"}, \"type\": \"quantitative\"}, \"x\": {\"aggregate\": \"count\", \"type\": \"quantitative\"}, \"y\": {\"axis\": {\"title\": \"cat_1\"}, \"field\": \"cat_1\", \"type\": \"quantitative\"}}}}], \"data\": {\"name\": \"data-ccb8a6834d34ebc3e899f252dd2de5b9\"}, \"title\": \"Categorical vs Categorical\", \"$schema\": \"https://vega.github.io/schema/vega-lite/v4.17.0.json\", \"datasets\": {\"data-ccb8a6834d34ebc3e899f252dd2de5b9\": [{\"cat_1\": 1, \"cat_2\": \"one\", \"num_1\": 10, \"num_2\": 1, \"num_na\": null}, {\"cat_1\": 1, \"cat_2\": \"one\", \"num_1\": 20, \"num_2\": 2, \"num_na\": 4.0}, {\"cat_1\": 2, \"cat_2\": \"two\", \"num_1\": 50, \"num_2\": 3, \"num_na\": null}, {\"cat_1\": 2, \"cat_2\": \"two\", \"num_1\": 100, \"num_2\": 4, \"num_na\": 8.0}, {\"cat_1\": 3, \"cat_2\": \"three\", \"num_1\": 200, \"num_2\": 5, \"num_na\": null}, {\"cat_1\": 3, \"cat_2\": \"three\", \"num_1\": 200, \"num_2\": 6, \"num_na\": 12.0}, {\"cat_1\": 4, \"cat_2\": \"four\", \"num_1\": 300, \"num_2\": 7, \"num_na\": null}, {\"cat_1\": 4, \"cat_2\": \"four\", \"num_1\": 300, \"num_2\": 8, \"num_na\": 16.0}]}}, {\"mode\": \"vega-lite\"});\n",
                            "</script>"
                        ],
                        "text/plain": [
                            "alt.HConcatChart(...)"
                        ]
                    },
                    "execution_count": 11,
                    "metadata": {},
                    "output_type": "execute_result"
                }
            ],
            "source": [
                "cat_dist_heatmap(cat_1='cat_1', cat_2='cat_2', data=test_data, title='Categorical vs Categorical', heatmap=True, barchart=True)"
            ]
        },
        {
            "attachments": {},
            "cell_type": "markdown",
            "metadata": {},
            "source": [
                "## Num_dist_summary\n",
                "This function creates a distribution plot of the numeric variable and statistical summary of the feature."
            ]
        },
        {
            "cell_type": "code",
            "execution_count": 12,
            "metadata": {},
            "outputs": [
                {
                    "name": "stdout",
                    "output_type": "stream",
                    "text": [
                        "These features below are possibly correlated with num_1: \n",
                        "\n",
                        "Feature       Correlation value\n",
                        "----------  -------------------\n",
                        "cat_1                      0.99\n",
                        "num_2                      0.98\n",
                        "num_na                     1 \n",
                        "\n",
                        "Statistical Summary is as : \n",
                        "-----------------  ------\n",
                        "mean               147.5\n",
                        "median             150\n",
                        "standard deviated  118.89\n",
                        "-----------------  ------ \n",
                        "\n"
                    ]
                },
                {
                    "name": "stderr",
                    "output_type": "stream",
                    "text": [
                        "/Users/austinshih/opt/miniconda3/envs/eda_helper/lib/python3.9/site-packages/altair/utils/core.py:317: FutureWarning: iteritems is deprecated and will be removed in a future version. Use .items instead.\n",
                        "  for col_name, dtype in df.dtypes.iteritems():\n"
                    ]
                },
                {
                    "data": {
                        "text/html": [
                            "\n",
                            "<div id=\"altair-viz-57e53bba10d34bc5bad836f142e92ceb\"></div>\n",
                            "<script type=\"text/javascript\">\n",
                            "  var VEGA_DEBUG = (typeof VEGA_DEBUG == \"undefined\") ? {} : VEGA_DEBUG;\n",
                            "  (function(spec, embedOpt){\n",
                            "    let outputDiv = document.currentScript.previousElementSibling;\n",
                            "    if (outputDiv.id !== \"altair-viz-57e53bba10d34bc5bad836f142e92ceb\") {\n",
                            "      outputDiv = document.getElementById(\"altair-viz-57e53bba10d34bc5bad836f142e92ceb\");\n",
                            "    }\n",
                            "    const paths = {\n",
                            "      \"vega\": \"https://cdn.jsdelivr.net/npm//vega@5?noext\",\n",
                            "      \"vega-lib\": \"https://cdn.jsdelivr.net/npm//vega-lib?noext\",\n",
                            "      \"vega-lite\": \"https://cdn.jsdelivr.net/npm//vega-lite@4.17.0?noext\",\n",
                            "      \"vega-embed\": \"https://cdn.jsdelivr.net/npm//vega-embed@6?noext\",\n",
                            "    };\n",
                            "\n",
                            "    function maybeLoadScript(lib, version) {\n",
                            "      var key = `${lib.replace(\"-\", \"\")}_version`;\n",
                            "      return (VEGA_DEBUG[key] == version) ?\n",
                            "        Promise.resolve(paths[lib]) :\n",
                            "        new Promise(function(resolve, reject) {\n",
                            "          var s = document.createElement('script');\n",
                            "          document.getElementsByTagName(\"head\")[0].appendChild(s);\n",
                            "          s.async = true;\n",
                            "          s.onload = () => {\n",
                            "            VEGA_DEBUG[key] = version;\n",
                            "            return resolve(paths[lib]);\n",
                            "          };\n",
                            "          s.onerror = () => reject(`Error loading script: ${paths[lib]}`);\n",
                            "          s.src = paths[lib];\n",
                            "        });\n",
                            "    }\n",
                            "\n",
                            "    function showError(err) {\n",
                            "      outputDiv.innerHTML = `<div class=\"error\" style=\"color:red;\">${err}</div>`;\n",
                            "      throw err;\n",
                            "    }\n",
                            "\n",
                            "    function displayChart(vegaEmbed) {\n",
                            "      vegaEmbed(outputDiv, spec, embedOpt)\n",
                            "        .catch(err => showError(`Javascript Error: ${err.message}<br>This usually means there's a typo in your chart specification. See the javascript console for the full traceback.`));\n",
                            "    }\n",
                            "\n",
                            "    if(typeof define === \"function\" && define.amd) {\n",
                            "      requirejs.config({paths});\n",
                            "      require([\"vega-embed\"], displayChart, err => showError(`Error loading script: ${err.message}`));\n",
                            "    } else {\n",
                            "      maybeLoadScript(\"vega\", \"5\")\n",
                            "        .then(() => maybeLoadScript(\"vega-lite\", \"4.17.0\"))\n",
                            "        .then(() => maybeLoadScript(\"vega-embed\", \"6\"))\n",
                            "        .catch(showError)\n",
                            "        .then(() => displayChart(vegaEmbed));\n",
                            "    }\n",
                            "  })({\"config\": {\"view\": {\"continuousWidth\": 400, \"continuousHeight\": 300}}, \"data\": {\"name\": \"data-ccb8a6834d34ebc3e899f252dd2de5b9\"}, \"mark\": \"bar\", \"encoding\": {\"x\": {\"bin\": {\"maxbins\": 20}, \"field\": \"num_1\", \"title\": null, \"type\": \"quantitative\"}, \"y\": {\"aggregate\": \"count\", \"title\": \"Count\", \"type\": \"quantitative\"}}, \"height\": 300, \"title\": \"Numeric Summary\", \"width\": 300, \"$schema\": \"https://vega.github.io/schema/vega-lite/v4.17.0.json\", \"datasets\": {\"data-ccb8a6834d34ebc3e899f252dd2de5b9\": [{\"cat_1\": 1, \"cat_2\": \"one\", \"num_1\": 10, \"num_2\": 1, \"num_na\": null}, {\"cat_1\": 1, \"cat_2\": \"one\", \"num_1\": 20, \"num_2\": 2, \"num_na\": 4.0}, {\"cat_1\": 2, \"cat_2\": \"two\", \"num_1\": 50, \"num_2\": 3, \"num_na\": null}, {\"cat_1\": 2, \"cat_2\": \"two\", \"num_1\": 100, \"num_2\": 4, \"num_na\": 8.0}, {\"cat_1\": 3, \"cat_2\": \"three\", \"num_1\": 200, \"num_2\": 5, \"num_na\": null}, {\"cat_1\": 3, \"cat_2\": \"three\", \"num_1\": 200, \"num_2\": 6, \"num_na\": 12.0}, {\"cat_1\": 4, \"cat_2\": \"four\", \"num_1\": 300, \"num_2\": 7, \"num_na\": null}, {\"cat_1\": 4, \"cat_2\": \"four\", \"num_1\": 300, \"num_2\": 8, \"num_na\": 16.0}]}}, {\"mode\": \"vega-lite\"});\n",
                            "</script>"
                        ],
                        "text/plain": [
                            "alt.Chart(...)"
                        ]
                    },
                    "execution_count": 12,
                    "metadata": {},
                    "output_type": "execute_result"
                }
            ],
            "source": [
                "num_dist_summary(num='num_1', data=test_data, title='Numeric Summary', lab=None, thresh_corr=0.0, stat=True)"
            ]
        }
    ],
    "metadata": {
        "kernelspec": {
            "display_name": "eda_helper",
            "language": "python",
            "name": "python3"
        },
        "language_info": {
            "codemirror_mode": {
                "name": "ipython",
                "version": 3
            },
            "file_extension": ".py",
            "mimetype": "text/x-python",
            "name": "python",
            "nbconvert_exporter": "python",
            "pygments_lexer": "ipython3",
            "version": "3.9.15"
        },
        "vscode": {
            "interpreter": {
                "hash": "842fbe6879adb1a5a537efc7fa67e951e577c976df4dee5632c1b124477a9843"
            }
        }
    },
    "nbformat": 4,
    "nbformat_minor": 4
}
